{
 "cells": [
  {
   "cell_type": "code",
   "execution_count": 1,
   "id": "3b0f41f3-8d64-438c-8d88-73423e34cb5e",
   "metadata": {},
   "outputs": [
    {
     "name": "stdout",
     "output_type": "stream",
     "text": [
      "2.8.0\n"
     ]
    },
    {
     "name": "stderr",
     "output_type": "stream",
     "text": [
      "2022-03-20 19:38:37.521830: I tensorflow/stream_executor/cuda/cuda_gpu_executor.cc:936] successful NUMA node read from SysFS had negative value (-1), but there must be at least one NUMA node, so returning NUMA node zero\n"
     ]
    },
    {
     "data": {
      "text/plain": [
       "[PhysicalDevice(name='/physical_device:GPU:0', device_type='GPU')]"
      ]
     },
     "execution_count": 1,
     "metadata": {},
     "output_type": "execute_result"
    },
    {
     "name": "stderr",
     "output_type": "stream",
     "text": [
      "2022-03-20 19:38:37.552677: I tensorflow/stream_executor/cuda/cuda_gpu_executor.cc:936] successful NUMA node read from SysFS had negative value (-1), but there must be at least one NUMA node, so returning NUMA node zero\n",
      "2022-03-20 19:38:37.552916: I tensorflow/stream_executor/cuda/cuda_gpu_executor.cc:936] successful NUMA node read from SysFS had negative value (-1), but there must be at least one NUMA node, so returning NUMA node zero\n"
     ]
    }
   ],
   "source": [
    "import numpy as np\n",
    "import pandas as pd\n",
    "\n",
    "from matplotlib import pyplot as plt\n",
    "import seaborn as sns\n",
    "\n",
    "from tensorflow.keras.datasets import cifar10\n",
    "from tensorflow.keras.utils import to_categorical\n",
    "from tensorflow.keras.layers import Dense, Flatten, Input, Dropout, Activation\n",
    "from tensorflow.keras.losses import categorical_crossentropy\n",
    "from keras.models import Sequential\n",
    "from tensorflow.keras.callbacks import EarlyStopping\n",
    "\n",
    "from tqdm.keras import TqdmCallback\n",
    "\n",
    "import tensorflow as tf\n",
    "print(tf.__version__)\n",
    "tf.config.list_physical_devices('GPU')"
   ]
  },
  {
   "cell_type": "code",
   "execution_count": 2,
   "id": "9c99fc9e-c5b7-472d-935b-b7d114cf7ce7",
   "metadata": {},
   "outputs": [
    {
     "name": "stdout",
     "output_type": "stream",
     "text": [
      "(50000, 32, 32, 3)\n",
      "50000 10000\n",
      "(50000, 3072)\n"
     ]
    }
   ],
   "source": [
    "(X_train, y_train), (X_test, y_test) = cifar10.load_data()\n",
    "\n",
    "print(X_train.shape)\n",
    "\n",
    "# flatten X\n",
    "X_train = X_train.reshape(X_train.shape[0], -1)\n",
    "X_test = X_test.reshape(X_test.shape[0], -1)\n",
    "\n",
    "X_mean = np.mean(X_train[0])\n",
    "X_sd = np.std(X_train[0])\n",
    "\n",
    "# Standardization\n",
    "X_train = (X_train - X_mean)/X_sd\n",
    "X_test = (X_test - X_mean)/X_sd\n",
    "\n",
    "# one-hot encoding\n",
    "y_train = to_categorical(y_train)\n",
    "y_test = to_categorical(y_test)\n",
    "\n",
    "print(len(X_train), len(X_test))\n",
    "print(X_train.shape)"
   ]
  },
  {
   "cell_type": "code",
   "execution_count": 3,
   "id": "3332ae41-c072-4bb6-b532-fe2f9fc4073a",
   "metadata": {},
   "outputs": [],
   "source": [
    "class Model_1(Sequential):\n",
    "    def __init__(\n",
    "        self, \n",
    "        n_classes,\n",
    "        optim,\n",
    "        # L2 = False,\n",
    "        dropout=False,\n",
    "    ):\n",
    "        super().__init__()\n",
    "        \n",
    "        # Input\n",
    "        self.add(Input(shape=(3072,), dtype='float32'))\n",
    "        \n",
    "        if dropout:\n",
    "            self.add(Dropout(0.2))\n",
    "            \n",
    "        # Dense 1\n",
    "        self.add(Dense(\n",
    "            1000,\n",
    "            activation='relu',\n",
    "            kernel_regularizer='l2',\n",
    "            bias_regularizer='l2',\n",
    "        ))\n",
    "        if dropout:\n",
    "            self.add(Dropout(0.5))\n",
    "\n",
    "        # Dense 2\n",
    "        self.add(Dense(\n",
    "            1000,\n",
    "            activation='relu',\n",
    "            kernel_regularizer='l2',\n",
    "            bias_regularizer='l2',\n",
    "        ))\n",
    "        if dropout:\n",
    "            self.add(Dropout(0.5))\n",
    "            \n",
    "        # Output\n",
    "        self.add(Dense(\n",
    "            n_classes, \n",
    "            activation='softmax'\n",
    "        ))\n",
    "\n",
    "        if optim == 'AdaGrad':\n",
    "            optimizer = 'Adagrad'\n",
    "        elif optim == 'RMSProp':\n",
    "            optimizer = 'RMSprop'\n",
    "        elif optim == 'RMSProp+Nesterov':\n",
    "            optimizer = 'Nadam'\n",
    "        elif optim == 'AdaDelta':\n",
    "            optimizer = 'Adadelta'\n",
    "        elif optim == 'Adam':\n",
    "            optimizer = 'adam'\n",
    "        else:\n",
    "            raise NotImplementedError()\n",
    "        \n",
    "        self.compile(optimizer=optimizer,\n",
    "                    loss=categorical_crossentropy,\n",
    "                    metrics=['accuracy'])"
   ]
  },
  {
   "cell_type": "code",
   "execution_count": null,
   "id": "bc205d7c-4321-4e72-8fff-a142aed88244",
   "metadata": {},
   "outputs": [],
   "source": []
  },
  {
   "cell_type": "code",
   "execution_count": 4,
   "id": "4b2ab8c3-c947-47fb-94f1-bae3e0134ecb",
   "metadata": {},
   "outputs": [
    {
     "name": "stderr",
     "output_type": "stream",
     "text": [
      "2022-03-20 00:41:10.861512: I tensorflow/core/platform/cpu_feature_guard.cc:151] This TensorFlow binary is optimized with oneAPI Deep Neural Network Library (oneDNN) to use the following CPU instructions in performance-critical operations:  AVX2 FMA\n",
      "To enable them in other operations, rebuild TensorFlow with the appropriate compiler flags.\n",
      "2022-03-20 00:41:10.862329: I tensorflow/stream_executor/cuda/cuda_gpu_executor.cc:936] successful NUMA node read from SysFS had negative value (-1), but there must be at least one NUMA node, so returning NUMA node zero\n",
      "2022-03-20 00:41:10.862607: I tensorflow/stream_executor/cuda/cuda_gpu_executor.cc:936] successful NUMA node read from SysFS had negative value (-1), but there must be at least one NUMA node, so returning NUMA node zero\n",
      "2022-03-20 00:41:10.862788: I tensorflow/stream_executor/cuda/cuda_gpu_executor.cc:936] successful NUMA node read from SysFS had negative value (-1), but there must be at least one NUMA node, so returning NUMA node zero\n",
      "2022-03-20 00:41:11.361661: I tensorflow/stream_executor/cuda/cuda_gpu_executor.cc:936] successful NUMA node read from SysFS had negative value (-1), but there must be at least one NUMA node, so returning NUMA node zero\n",
      "2022-03-20 00:41:11.361929: I tensorflow/stream_executor/cuda/cuda_gpu_executor.cc:936] successful NUMA node read from SysFS had negative value (-1), but there must be at least one NUMA node, so returning NUMA node zero\n",
      "2022-03-20 00:41:11.362129: I tensorflow/stream_executor/cuda/cuda_gpu_executor.cc:936] successful NUMA node read from SysFS had negative value (-1), but there must be at least one NUMA node, so returning NUMA node zero\n",
      "2022-03-20 00:41:11.362297: I tensorflow/core/common_runtime/gpu/gpu_device.cc:1525] Created device /job:localhost/replica:0/task:0/device:GPU:0 with 6603 MB memory:  -> device: 0, name: NVIDIA GeForce RTX 2070 with Max-Q Design, pci bus id: 0000:01:00.0, compute capability: 7.5\n"
     ]
    },
    {
     "data": {
      "application/vnd.jupyter.widget-view+json": {
       "model_id": "fe5e7f18258d463392797237212528b3",
       "version_major": 2,
       "version_minor": 0
      },
      "text/plain": [
       "0epoch [00:00, ?epoch/s]"
      ]
     },
     "metadata": {},
     "output_type": "display_data"
    },
    {
     "data": {
      "application/vnd.jupyter.widget-view+json": {
       "model_id": "",
       "version_major": 2,
       "version_minor": 0
      },
      "text/plain": [
       "0batch [00:00, ?batch/s]"
      ]
     },
     "metadata": {},
     "output_type": "display_data"
    },
    {
     "name": "stderr",
     "output_type": "stream",
     "text": [
      "2022-03-20 00:41:11.727096: W tensorflow/core/framework/cpu_allocator_impl.cc:82] Allocation of 614400000 exceeds 10% of free system memory.\n",
      "2022-03-20 00:41:12.173708: W tensorflow/core/framework/cpu_allocator_impl.cc:82] Allocation of 614400000 exceeds 10% of free system memory.\n"
     ]
    },
    {
     "data": {
      "application/vnd.jupyter.widget-view+json": {
       "model_id": "213eeaf418be4fc9a741828327b299c8",
       "version_major": 2,
       "version_minor": 0
      },
      "text/plain": [
       "0epoch [00:00, ?epoch/s]"
      ]
     },
     "metadata": {},
     "output_type": "display_data"
    },
    {
     "data": {
      "application/vnd.jupyter.widget-view+json": {
       "model_id": "",
       "version_major": 2,
       "version_minor": 0
      },
      "text/plain": [
       "0batch [00:00, ?batch/s]"
      ]
     },
     "metadata": {},
     "output_type": "display_data"
    },
    {
     "name": "stderr",
     "output_type": "stream",
     "text": [
      "2022-03-20 00:46:11.975134: W tensorflow/core/framework/cpu_allocator_impl.cc:82] Allocation of 614400000 exceeds 10% of free system memory.\n",
      "2022-03-20 00:46:12.404516: W tensorflow/core/framework/cpu_allocator_impl.cc:82] Allocation of 614400000 exceeds 10% of free system memory.\n"
     ]
    },
    {
     "data": {
      "application/vnd.jupyter.widget-view+json": {
       "model_id": "f74b0923cb10498dbda7cbd315dc9235",
       "version_major": 2,
       "version_minor": 0
      },
      "text/plain": [
       "0epoch [00:00, ?epoch/s]"
      ]
     },
     "metadata": {},
     "output_type": "display_data"
    },
    {
     "data": {
      "application/vnd.jupyter.widget-view+json": {
       "model_id": "",
       "version_major": 2,
       "version_minor": 0
      },
      "text/plain": [
       "0batch [00:00, ?batch/s]"
      ]
     },
     "metadata": {},
     "output_type": "display_data"
    },
    {
     "name": "stderr",
     "output_type": "stream",
     "text": [
      "2022-03-20 00:52:19.376861: W tensorflow/core/framework/cpu_allocator_impl.cc:82] Allocation of 614400000 exceeds 10% of free system memory.\n"
     ]
    },
    {
     "data": {
      "application/vnd.jupyter.widget-view+json": {
       "model_id": "dae739e73dbe452caac08abe0ce65ada",
       "version_major": 2,
       "version_minor": 0
      },
      "text/plain": [
       "0epoch [00:00, ?epoch/s]"
      ]
     },
     "metadata": {},
     "output_type": "display_data"
    },
    {
     "data": {
      "application/vnd.jupyter.widget-view+json": {
       "model_id": "",
       "version_major": 2,
       "version_minor": 0
      },
      "text/plain": [
       "0batch [00:00, ?batch/s]"
      ]
     },
     "metadata": {},
     "output_type": "display_data"
    },
    {
     "data": {
      "application/vnd.jupyter.widget-view+json": {
       "model_id": "81969519611f4286b0dceb3f122ef91d",
       "version_major": 2,
       "version_minor": 0
      },
      "text/plain": [
       "0epoch [00:00, ?epoch/s]"
      ]
     },
     "metadata": {},
     "output_type": "display_data"
    },
    {
     "data": {
      "application/vnd.jupyter.widget-view+json": {
       "model_id": "",
       "version_major": 2,
       "version_minor": 0
      },
      "text/plain": [
       "0batch [00:00, ?batch/s]"
      ]
     },
     "metadata": {},
     "output_type": "display_data"
    }
   ],
   "source": [
    "n_epochs = 200\n",
    "n_class = 10\n",
    "batch_size = 128\n",
    "optim_list = ['AdaGrad', 'RMSProp', 'RMSProp+Nesterov', 'AdaDelta', 'Adam']\n",
    "\n",
    "list_df_history = []\n",
    "\n",
    "for optim in optim_list:\n",
    "    m1 = Model_1(n_class, optim, dropout=False)\n",
    "    \n",
    "    # early_stopper = EarlyStopping(monitor='val_accuracy', patience=20)\n",
    "    \n",
    "    history = m1.fit(\n",
    "        X_train, \n",
    "        y=y_train, \n",
    "        epochs=n_epochs, \n",
    "        batch_size=batch_size,\n",
    "        validation_data=(X_test, y_test), \n",
    "        callbacks=[TqdmCallback(verbose=1)],\n",
    "        verbose=0\n",
    "    )\n",
    "    \n",
    "    df_history = pd.DataFrame(history.history)\n",
    "    df_history['optim'] = optim\n",
    "    df_history['epoch'] = list(range(1, n_epochs+1))\n",
    "    \n",
    "    list_df_history.append(df_history)\n",
    "    \n",
    "\n",
    "df_history_l2 = pd.concat(list_df_history)\n",
    "#df_history_l2.to_csv('./data_q1_l2.csv', index=False)"
   ]
  },
  {
   "cell_type": "code",
   "execution_count": 10,
   "id": "466b6872-8aee-40dc-8eff-1c76e4f243ea",
   "metadata": {},
   "outputs": [
    {
     "data": {
      "text/plain": [
       "<AxesSubplot:xlabel='epoch', ylabel='loss'>"
      ]
     },
     "execution_count": 10,
     "metadata": {},
     "output_type": "execute_result"
    },
    {
     "data": {
      "image/png": "[encoded data removed]",
      "text/plain": [
       "<Figure size 576x432 with 1 Axes>"
      ]
     },
     "metadata": {
      "needs_background": "light"
     },
     "output_type": "display_data"
    }
   ],
   "source": [
    "plt.figure(figsize=(8,6))\n",
    "sns.lineplot(\n",
    "    data=df_history_l2.reset_index(drop=True), \n",
    "    x='epoch', \n",
    "    y='loss', \n",
    "    hue='optim'\n",
    ")"
   ]
  }
 ],
 "metadata": {
  "kernelspec": {
   "display_name": "Python 3 (ipykernel)",
   "language": "python",
   "name": "python3"
  },
  "language_info": {
   "codemirror_mode": {
    "name": "ipython",
    "version": 3
   },
   "file_extension": ".py",
   "mimetype": "text/x-python",
   "name": "python",
   "nbconvert_exporter": "python",
   "pygments_lexer": "ipython3",
   "version": "3.9.7"
  }
 },
 "nbformat": 4,
 "nbformat_minor": 5
}
